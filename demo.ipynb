{
 "cells": [
  {
   "cell_type": "markdown",
   "id": "6113351c-ba4f-4f3d-8843-acb483d551c0",
   "metadata": {},
   "source": [
    "This notebook is meant to be a self-contained Python demonstration of how VTech typically runs ctrl-VQE simulations.\n",
    "\n",
    "Unfortunately, I don't typically use either Jupyter or Python, so it may or may not be helpful. `^_^`\n",
    "\n",
    "In particular, this notebook will use `ctrlq`, an old Python package written before my time (though I have fixed a couple bugs).\n",
    "It is not as extensible or as efficient as my current Julia code, but it should be perfectly sufficient for matching against a first proof-of-principle experiment.\n",
    "\n",
    "Be sure to build the C++ part of `ctrlq` according to the instructions on GitHub,\n",
    "    and then make sure the `ctrlq` module is in the PYTHONPATH when you start the jupyter server,\n",
    "    or else this notebook won't know what it's supposed to do!\n",
    "\n",
    "For reference, GitHub versions of the Python `ctrlq` and the more modern Julia `CtrlVQE.jl` are available here:\n",
    "- https://github.com/kmsherbertvt/ctrlq\n",
    "- https://github.com/kmsherbertvt/CtrlVQE.jl"
   ]
  },
  {
   "cell_type": "markdown",
   "id": "607ea5f9-68d6-4e3b-85d1-8c2d812eff58",
   "metadata": {},
   "source": [
    "#### Specify the Chemistry\n",
    "\n",
    "At present, our simulations' target observable is input directly as a dense matrix.\n",
    "\n",
    "The `ctrlq` library has some old `qiskit` code that used to generate these matrices,\n",
    "    but it is severely out of date and nearly impossible to get to work.\n",
    "\n",
    "My own workflow is to use `pyscf` to find the Hartree-Fock orbitals and calculate integrals,\n",
    "    then use `openfermion` to convert the integrals into one- and two-body tensors,\n",
    "    map those onto qubit operators (usually via the parity mapping),\n",
    "    then apply qubit tapering.\n",
    "The result is a qubit operator (ie. sum of Paulis).\n",
    "\n",
    "In practice, one would partition this operator into commuting groups\n",
    "    and perform a distinct circuit to measure expectation values of each one.\n",
    "    but for my simulations I just convert the full operator into a matrix,\n",
    "    and I save it as a numpy `.npy` file.\n",
    "\n",
    "So all my simulations ever have to do is load that `.npy` file..."
   ]
  },
  {
   "cell_type": "markdown",
   "id": "b1fbc9a7-73e3-4bea-90c0-2355c2be14be",
   "metadata": {},
   "source": [
    "##### Import numpy"
   ]
  },
  {
   "cell_type": "code",
   "execution_count": 1,
   "id": "3f49fb6c-f1b5-4d31-bc34-bfaf0cf9d1d6",
   "metadata": {},
   "outputs": [],
   "source": [
    "import numpy\n",
    "numpy.set_printoptions(3, suppress=True)"
   ]
  },
  {
   "cell_type": "markdown",
   "id": "34d7cb1f-c75d-435d-8ffc-5b2bb14c7dfc",
   "metadata": {},
   "source": [
    "##### Load a molecular Hamiltonian"
   ]
  },
  {
   "cell_type": "code",
   "execution_count": 2,
   "id": "a4eed06e-845b-42bd-97cf-440045480790",
   "metadata": {},
   "outputs": [
    {
     "data": {
      "text/plain": [
       "array([[-0.661+0.j,  0.   +0.j,  0.   +0.j,  0.23 +0.j],\n",
       "       [ 0.   +0.j, -0.911+0.j,  0.23 +0.j,  0.   +0.j],\n",
       "       [ 0.   +0.j,  0.23 +0.j, -0.394+0.j,  0.   +0.j],\n",
       "       [ 0.23 +0.j,  0.   +0.j,  0.   +0.j, -0.661+0.j]])"
      ]
     },
     "execution_count": 2,
     "metadata": {},
     "output_type": "execute_result"
    }
   ],
   "source": [
    "matrixfile = \"matrix/H2_1.5.npy\"\n",
    "H_mol = numpy.load(matrixfile)\n",
    "H_mol"
   ]
  },
  {
   "cell_type": "code",
   "execution_count": 3,
   "id": "5dfdcfb6-13ca-46d3-bdcb-13c51be3f235",
   "metadata": {},
   "outputs": [
    {
     "data": {
      "text/plain": [
       "array([[-0.394+0.j,  0.   +0.j,  0.23 +0.j,  0.   +0.j],\n",
       "       [ 0.   +0.j, -0.661+0.j,  0.   +0.j, -0.23 +0.j],\n",
       "       [ 0.23 +0.j,  0.   +0.j, -0.911+0.j,  0.   +0.j],\n",
       "       [ 0.   +0.j, -0.23 +0.j,  0.   +0.j, -0.661+0.j]])"
      ]
     },
     "execution_count": 3,
     "metadata": {},
     "output_type": "execute_result"
    }
   ],
   "source": [
    "# The matrices in this package were generated from qiskit,\n",
    "#    but openfermion generates a permuted matrix.\n",
    "# As it turns out, the openfermion permutation works rather better for H2.\n",
    "# You can turn the qiskit shape into the openfermion shape with the following permutation.\n",
    "P = numpy.array([[0, 0, -1, 0], [-1, 0, 0, 0], [0, -1, 0, 0], [0, 0, 0, 1]])\n",
    "H_mol = P @ H_mol @ P.conj().T\n",
    "H_mol"
   ]
  },
  {
   "cell_type": "markdown",
   "id": "2f343be5-e8a7-45d3-bb21-137322ada8ce",
   "metadata": {},
   "source": [
    "##### Infer the problem size"
   ]
  },
  {
   "cell_type": "code",
   "execution_count": 4,
   "id": "782c3d0c-5570-4e8b-9b2a-9f3b0d891f85",
   "metadata": {},
   "outputs": [],
   "source": [
    "N = len(H_mol)\n",
    "n = int(numpy.log2(N))"
   ]
  },
  {
   "cell_type": "markdown",
   "id": "6dec1189-7b9d-4124-b80e-87cbb912f148",
   "metadata": {},
   "source": [
    "The only other thing to specify is the reference state on which the variational control pulse acts.\n",
    "\n",
    "Typically, we have been using the Hartree-Fock state, which is some computational basis state\n",
    "    (which one depends on exactly how the matrix was constructed),\n",
    "    and we've just been implicitly assuming it can be prepared perfectly.\n",
    "\n",
    "In principle, we could just always start out with `|0..0⟩`, the usual for hardware.\n",
    "But the evolution time is bound to be longer,\n",
    "    and starting far from a good reference makes us vulnerable to barren plateaus,\n",
    "    so for now let's just do what we've done so far."
   ]
  },
  {
   "cell_type": "markdown",
   "id": "57cbbb5c-4e1f-4ae5-9788-502e61862dfc",
   "metadata": {},
   "source": [
    "##### Specify the reference state"
   ]
  },
  {
   "cell_type": "code",
   "execution_count": 5,
   "id": "80653101-ec2c-4136-ada4-eddac3b5b37a",
   "metadata": {},
   "outputs": [],
   "source": [
    "initket = [0]*n\n",
    "initket[0] = 1"
   ]
  },
  {
   "cell_type": "markdown",
   "id": "065406b6-85be-4439-b9cc-d76996aeba75",
   "metadata": {},
   "source": [
    "#### Specify the quantum computer"
   ]
  },
  {
   "cell_type": "markdown",
   "id": "15420fbd-f543-4470-a21a-717533549dd6",
   "metadata": {},
   "source": [
    "Oddly enough, the `ctrlq` library code I got my hands on only ever uses one device parameterization,\n",
    "    based loosely on an IBMQ device four years ago.\n",
    "It was clearly designed to accommodate something more general.\n",
    "It just, uh, doesn't, and I never bothered to fix it.\n",
    "\n",
    "It does, at the very least, let you feed in a device's static Hamiltonian as a dense matrix.\n",
    "\n",
    "So I'm just basically going to copy/paste the code that it uses to compute the static Hamiltonian\n",
    "    of the \"baked in\" device,\n",
    "    and you can change the parameters of the device as needed.\n",
    "\n",
    "Unfortunately, that device has linear couplings,\n",
    "    so you will need to adjust the static Hamiltonian if you want an arbitrary graph.\n",
    "    \n",
    "(Alternatively, I could write you a notebook in Julia, using my rather-more-flexible code! `^_^`)"
   ]
  },
  {
   "cell_type": "markdown",
   "id": "d9a83939-7852-4685-8236-3d3197600edc",
   "metadata": {},
   "source": [
    "##### Define the device parameters"
   ]
  },
  {
   "cell_type": "code",
   "execution_count": 6,
   "id": "358a5831-83f2-4ddb-a764-dd3349dc3099",
   "metadata": {},
   "outputs": [],
   "source": [
    "pi2 = 2 * numpy.pi\n",
    "class DemoDevice:\n",
    "    def __init__(self):\n",
    "        self.w =[   # RESONANCE FREQUENCIES (radians per nanosecond)\n",
    "            pi2 * 4.808049015463495,\n",
    "            pi2 * 4.833254817254613,\n",
    "            pi2 * 4.940051121317842,\n",
    "            pi2 * 4.795960998582043,\n",
    "        ]\n",
    "        self.eta = [ # ANHARMONICITIES (radians per nanosecond)\n",
    "            pi2* 0.3101773613134229,\n",
    "            pi2* 0.2916170385725456,\n",
    "            pi2* 0.3301773613134229,\n",
    "            pi2* 0.2616170385725456,\n",
    "        ]\n",
    "        self.g = [   # COUPLING STRENGTHS (radians per nanosecond) [Order: 0-1, 1-2, 2-3, 3-0]\n",
    "            pi2 *0.018312874435769682,\n",
    "            pi2 *0.021312874435769682,\n",
    "            pi2 *0.019312874435769682,\n",
    "            pi2 *0.020312874435769682,\n",
    "        ]"
   ]
  },
  {
   "cell_type": "markdown",
   "id": "6ce72ad4-ef38-46b0-b651-3732d394d7ba",
   "metadata": {},
   "source": [
    "##### Construct the static Hamiltonian"
   ]
  },
  {
   "cell_type": "code",
   "execution_count": 7,
   "id": "081a3f2b-42e1-4d89-8245-1d1be9c3e57f",
   "metadata": {},
   "outputs": [],
   "source": [
    "from ctrlq import cvqe\n",
    "from ctrlq.cvqe.omisc import cbas_, qbas_, anih, create, initial_state\n",
    "def static_ham(nstate, nqubit = 2):\n",
    "\n",
    "    diag_n = numpy.arange(nstate)\n",
    "    diag_n = numpy.diagflat(diag_n)\n",
    "    eye_n = numpy.eye(nstate, dtype=numpy.float64)\n",
    "    diag_eye = 0.5 * numpy.dot(diag_n, diag_n - eye_n)\n",
    "    astate = anih(nstate)\n",
    "    cstate = create(nstate)\n",
    "\n",
    "    dp = DemoDevice()\n",
    "    \n",
    "    ham_ = 0.0\n",
    "    iwork = True\n",
    "    for i in range(nqubit):\n",
    "\n",
    "        h_ = dp.w[i]*diag_n - dp.eta[i]*diag_eye\n",
    "\n",
    "        if not i:\n",
    "            tmp_ = h_\n",
    "            tmp_i = astate\n",
    "        else:\n",
    "            tmp_ = eye_n\n",
    "            if i == nqubit-1:\n",
    "                tmp_i = cstate\n",
    "            else:\n",
    "                tmp_i = eye_n\n",
    "        \n",
    "        for j in range(1,nqubit):\n",
    "            if j == i:\n",
    "                wrk = h_\n",
    "                wrk_i = astate\n",
    "            elif j == i+1:\n",
    "                wrk = eye_n\n",
    "                wrk_i = cstate\n",
    "            else:\n",
    "                wrk = eye_n\n",
    "                wrk_i = eye_n\n",
    "                \n",
    "            tmp_ = numpy.kron(tmp_,wrk)\n",
    "            if iwork:\n",
    "                tmp_i = numpy.kron(tmp_i,wrk_i)\n",
    "\n",
    "        ham_ += tmp_\n",
    "        if iwork:\n",
    "            tmp_i += tmp_i.conj().T\n",
    "            tmp_i *= dp.g[i]\n",
    "            ham_ += tmp_i\n",
    "            \n",
    "            if nqubit == 2:\n",
    "                iwork = False\n",
    "    \n",
    "    return ham_"
   ]
  },
  {
   "cell_type": "markdown",
   "id": "afa8ace4-b7fb-4a86-a50b-1257c786a210",
   "metadata": {},
   "source": [
    "Now we can construct the transmon object used to simulate time evolution in a quantum computer.\n",
    "\n",
    "We can choose to simulate `m` levels in each transmon;\n",
    "    most pedagogical treatments simply assume `m=2` so the Hamiltonian can be written with Pauli operators.\n",
    "There is an implicit assumption that leakage never happens,\n",
    "    and that is tenuously enforced by only ever applying well-studied pulse shapes.\n",
    "    \n",
    "Admittedly, most of my own simulations in the last year do this too. `^_^`\n",
    "\n",
    "But, let's *not* do that here..."
   ]
  },
  {
   "cell_type": "markdown",
   "id": "6fbd2d49-b02b-4677-91ec-d55ef631c1dd",
   "metadata": {},
   "source": [
    "##### Specify the size of the physical transmon space"
   ]
  },
  {
   "cell_type": "code",
   "execution_count": 8,
   "id": "1a277c82-83ba-4cdf-bc93-d269ddb37c85",
   "metadata": {},
   "outputs": [],
   "source": [
    "m = 3"
   ]
  },
  {
   "cell_type": "markdown",
   "id": "966ed459-f174-4086-9bc3-333d0ed48645",
   "metadata": {},
   "source": [
    "##### Construct the transmon object"
   ]
  },
  {
   "cell_type": "code",
   "execution_count": 9,
   "id": "174e2857-c405-4f5f-b717-2aacd4c19de2",
   "metadata": {},
   "outputs": [],
   "source": [
    "H0 = static_ham(m, nqubit=n)\n",
    "device = cvqe.transmon(\n",
    "    nqubit=n,\n",
    "    nstate=m,\n",
    "    mham=H_mol,     # Why should the observable be a parameter to the device, you wonder? Me too...\n",
    "    istate=initket,\n",
    "    Hstatic=H0,\n",
    ")"
   ]
  },
  {
   "cell_type": "markdown",
   "id": "1125fdf6-1c59-4ed4-8ff5-01eccc0fcb45",
   "metadata": {},
   "source": [
    "#### Specify the pulse"
   ]
  },
  {
   "cell_type": "markdown",
   "id": "8b3e174b-9226-468b-b13d-1d55c8534bca",
   "metadata": {},
   "source": [
    "The `ctrlq` code implements square pulses and, I think, Gaussian pulses,\n",
    "    though I've never tested the latter.\n",
    "\n",
    "Actually, the only difficult in using different pulse shapes\n",
    "    is in working out efficient analytic expressions for the gradient,\n",
    "    needed for fast optimizations *in silico*.\n",
    "This is very easy to generalize, and my Julia code does so,\n",
    "    but I don't think it's easy with `ctrlq` as it stands. `^_^`\n",
    "\n",
    "*In quanta*, the analytical gradient is probably more trouble than it's worth,\n",
    "    at least for a first proof-of-concept,\n",
    "    so I think you could really use whatever pulse shapes are easiest to implement on your device,\n",
    "    but for comparison's sake I suppose square pulses are as good a place to start as any.\n",
    "\n",
    "The biggest thing `ctrlq` lacks is any control on the phase of the pulse:\n",
    "    pulse amplitudes are explicitly real,\n",
    "    and it turns out the gradient expression is a bit different if you want to make them complex,\n",
    "    so you can't just tweak things to accept a different number type.\n",
    "    \n",
    "The other major thing is pulse constraints: `ctrlq` does have them,\n",
    "    some even more sophisticated than I have in my Julia code right now.\n",
    "But it does not, uh, *document* them, and I haven't taken the time to figuring out how they work.\n",
    "\n",
    "The example below explicilty shows a default for a parameter which I assume imposes simple box constraints on the drive strength,\n",
    "    but my personal recommendation for a first proof-of-concept is to work with long-enough pulses\n",
    "    that the optimizer never bothers to suggest pulse amplitudes you aren't comfortable applying."
   ]
  },
  {
   "cell_type": "markdown",
   "id": "c989b351-beb5-476c-a9ea-514cea15eb27",
   "metadata": {},
   "source": [
    "##### Specify some meta-parameters"
   ]
  },
  {
   "cell_type": "code",
   "execution_count": 10,
   "id": "13ddaa8d-ca10-41af-b0a2-1601f9c5024b",
   "metadata": {},
   "outputs": [],
   "source": [
    "T = 12.0 # ns  # TOTAL PULSE DURATION\n",
    "W = 4          # NUMBER OF DISTINCT WINDOWS"
   ]
  },
  {
   "cell_type": "markdown",
   "id": "72f14374-b47c-4cdf-b849-e45c26641aaa",
   "metadata": {},
   "source": [
    "##### Construct the pulse"
   ]
  },
  {
   "cell_type": "code",
   "execution_count": 11,
   "id": "7013e363-ef62-4871-8673-7504a6eb696f",
   "metadata": {},
   "outputs": [],
   "source": [
    "pulse = cvqe.pulse(\n",
    "    nqubit=n, duration=T,\n",
    "    shape='square', nwindow=W,\n",
    "    amp_bound = 0.02, # For whatever reason, this seems to be a frequency rather than angular frequency like the others.\n",
    ")"
   ]
  },
  {
   "cell_type": "markdown",
   "id": "fec7088c-5f86-4a0e-9597-cb0706659d5a",
   "metadata": {},
   "source": [
    "Pulse parameters for the `ctrlq` square pulse include:\n",
    "- the drive frequencies for each qubit (assumed constant throughout the pulse duration)\n",
    "- the strength for each window (negative numbers are allowed, for an implicit discrete switch to phase ϕ=π)\n",
    "- the times at which windows switch (perhaps different for each qubit)\n",
    "\n",
    "The switching times are not varied by the optimizer.\n",
    "(At least not for the square pulse shape - perhaps they are for Gaussians?\n",
    "They certainly could be... You could do it for the square pulse too,\n",
    "    but for the infinitesimal width of a Dirac-delta function.\n",
    "Too small for even the most precise of finite differences... `^_^`).\n",
    "\n",
    "All these values are initialized to random numbers when the pulse is constructed,\n",
    "    but I will now overwrite them with somewhat sensible fixed values so you can see their formatting."
   ]
  },
  {
   "cell_type": "markdown",
   "id": "39978621-bd4a-436c-b888-59289598deeb",
   "metadata": {},
   "source": [
    "##### Set the initial pulse parameters"
   ]
  },
  {
   "cell_type": "code",
   "execution_count": 12,
   "id": "04c5ab02-9852-4664-a992-8df002a46d05",
   "metadata": {},
   "outputs": [],
   "source": [
    "pulse.freq = list(DemoDevice().w)[:n]  # Start on resonance of first n qubits.\n",
    "pulse.amp = [\n",
    "    [0.0]*W, # The list of amplitudes for each window on the first qubit.\n",
    "    [0.0]*W, # The list of amplitudes for each window on the first qubit.\n",
    "]\n",
    "pulse.tseq = [\n",
    "    [(1+i)*T/W for i in range(W)],  # Uniformly spaced windows. Note the first window always starts at 0.0, and the last ends at T.\n",
    "    [(1+i)*T/W for i in range(W)],  # (Same thing for the second qubit in this example, but they needn't match!)\n",
    "]"
   ]
  },
  {
   "cell_type": "markdown",
   "id": "89232569-2544-4be7-b28b-68c87ea49913",
   "metadata": {},
   "source": [
    "#### Run the optimization"
   ]
  },
  {
   "cell_type": "code",
   "execution_count": 13,
   "id": "79ad4db5-536a-4b79-9c6c-5ba001f414cc",
   "metadata": {},
   "outputs": [
    {
     "name": "stdout",
     "output_type": "stream",
     "text": [
      "\n",
      "  Pulse optimization ends\n",
      "  CONVERGENCE: REL_REDUCTION_OF_F_<=_FACTR*EPSMCH\n",
      "  ------------------------------------------\n",
      "\n",
      "  Printing progress\n",
      "  --------------------------------------------------------\n",
      "  --------------------------------------------------------\n",
      "  Iter       Energy(H)      Leak(%)  Ediff(H)    Gnorm\n",
      "    0     -0.910873550000   0.0000  0.0000e+00  0.0000e+00\n",
      "    1     -0.932425345770   0.0264  2.1552e-02  9.5252e-01\n",
      "    2     -0.948698861020   0.0209  1.6274e-02  6.0157e-01\n",
      "    3     -0.967037751701   0.0859  1.8339e-02  5.6237e-01\n",
      "    4     -0.975162218071   0.1042  8.1245e-03  4.8016e-01\n",
      "    5     -0.984677892128   0.1014  9.5157e-03  3.5303e-01\n",
      "    6     -0.988876815290   0.0877  4.1989e-03  2.6763e-01\n",
      "    7     -0.990468405534   0.0790  1.5916e-03  1.4312e-01\n",
      "    8     -0.993226201919   0.0829  2.7578e-03  1.2999e-01\n",
      "    9     -0.995027443864   0.1449  1.8012e-03  9.3539e-02\n",
      "   10     -0.995874900485   0.3119  8.4746e-04  1.7370e-01\n",
      "   11     -0.996543438540   0.4296  6.6854e-04  5.7894e-02\n",
      "   12     -0.996852328470   0.5320  3.0889e-04  5.0695e-02\n",
      "   13     -0.996915059939   0.5651  6.2731e-05  6.4908e-02\n",
      "   14     -0.996919955338   0.5759  4.8954e-06  7.3378e-02\n",
      "   15     -0.996920305384   0.5788  3.5005e-07  7.5819e-02\n",
      "   16     -0.996920331230   0.5796  2.5846e-08  7.6493e-02\n",
      "   17     -0.996920894108   0.5836  5.6288e-07  7.9624e-02\n",
      "   18     -0.996920937500   0.5848  4.3392e-08  8.0506e-02\n",
      "   19     -0.997412599230   0.7051  4.9166e-04  4.9360e-02\n",
      "   20     -0.997682015672   0.7207  2.6942e-04  5.3161e-02\n",
      "   21     -0.997785219065   0.7160  1.0320e-04  3.8457e-02\n",
      "   22     -0.997892787773   0.6989  1.0757e-04  5.6333e-02\n",
      "   23     -0.997992735025   0.6424  9.9947e-05  2.1033e-02\n",
      "   24     -0.998017608063   0.6320  2.4873e-05  8.2933e-03\n",
      "   25     -0.998021136009   0.6280  3.5279e-06  5.4307e-03\n",
      "   26     -0.998024747618   0.6282  3.6116e-06  5.1270e-03\n",
      "   27     -0.998038577274   0.6369  1.3830e-05  8.1114e-03\n",
      "   28     -0.998076796850   0.6852  3.8220e-05  2.7070e-02\n",
      "   29     -0.998100481792   0.7174  2.3685e-05  2.4908e-02\n",
      "   30     -0.998141178564   0.8237  4.0697e-05  1.1989e-02\n",
      "   31     -0.998143773564   0.8323  2.5950e-06  7.8923e-03\n",
      "   32     -0.998144874063   0.8237  1.1005e-06  3.9063e-03\n",
      "   33     -0.998145778964   0.8288  9.0490e-07  3.6148e-03\n",
      "   34     -0.998148109325   0.8528  2.3304e-06  7.7958e-03\n",
      "   35     -0.998149206325   0.8676  1.0970e-06  1.6785e-03\n",
      "   36     -0.998149311712   0.8679  1.0539e-07  8.9594e-04\n",
      "   37     -0.998149347468   0.8712  3.5756e-08  2.0230e-04\n",
      "   38     -0.998149351218   0.8722  3.7502e-09  7.2409e-05\n",
      "   39     -0.998149351671   0.8724  4.5320e-10  1.2212e-05\n",
      "  --------------------------------------------------------\n",
      "  --------------------------------------------------------\n",
      "\n",
      "\n",
      "  -----* Optimal pulse parameters *-----\n",
      "  | Amplitudes\n",
      "  Qubit  1  :    0.1084349856059152     0.0487797289827133    -0.0681762127695211    -0.1256626458714654  \n",
      "  Qubit  2  :    0.0410850882099796     0.1035202684147494     0.0034280120890964    -0.1111038430127465  \n",
      "\n",
      "  | Time Windows\n",
      "  Qubit  1  :    3.0000000000000000    6.0000000000000000    9.0000000000000000   12.0000000000000000 \n",
      "  Qubit  2  :    3.0000000000000000    6.0000000000000000    9.0000000000000000   12.0000000000000000 \n",
      "\n",
      "  | Frequencies\n",
      "  Qubit  1  :   30.2756557298491877  \n",
      "  Qubit  2  :   30.3637577681988091  \n",
      "\n",
      "  Printing ends \n",
      "  --------------------------------------\n",
      "\n"
     ]
    }
   ],
   "source": [
    "r = int(200*T)  # Number of Trotter steps\n",
    "ctrl = cvqe.control(pulse, device, nstep=r, solver='trotter', iprint=1)\n",
    "E, lk = ctrl.optimize(\n",
    "    method='l-bfgs-b',    # Actually the only option...\n",
    "    normalize=True,       \n",
    "    maxiter=100,           \n",
    "    maxls=20,              \n",
    "    gtol=1.0e-09,\n",
    "    ftol=1.0e-09,\n",
    "    gradient='numerical',\n",
    "    shape='square',\n",
    ")"
   ]
  },
  {
   "cell_type": "markdown",
   "id": "2e214dce-bd2f-483c-a162-d81df122ee0f",
   "metadata": {},
   "source": [
    "#### Check the results"
   ]
  },
  {
   "cell_type": "code",
   "execution_count": 14,
   "id": "a0191525-38d2-4a64-8e26-8aa8e70063cd",
   "metadata": {},
   "outputs": [
    {
     "name": "stdout",
     "output_type": "stream",
     "text": [
      "ctrl-VQE found energy: -0.9981493516714971 Ha\n",
      "     Error with exact: 1.9047763366586423e-11\n",
      "% loss due to leakage: 0.8724247755610093 %\n"
     ]
    }
   ],
   "source": [
    "print(f\"ctrl-VQE found energy: {E} Ha\")\n",
    "\n",
    "E0, U0 = numpy.linalg.eigh(H_mol)\n",
    "print(f\"     Error with exact: {E-E0[0]}\")\n",
    "\n",
    "print(f\"% loss due to leakage: {100*lk} %\")"
   ]
  },
  {
   "cell_type": "code",
   "execution_count": null,
   "id": "e54fabf8-c43b-4a4f-8b51-46748bafa12d",
   "metadata": {},
   "outputs": [],
   "source": []
  }
 ],
 "metadata": {
  "kernelspec": {
   "display_name": "Python 3 (ipykernel)",
   "language": "python",
   "name": "python3"
  },
  "language_info": {
   "codemirror_mode": {
    "name": "ipython",
    "version": 3
   },
   "file_extension": ".py",
   "mimetype": "text/x-python",
   "name": "python",
   "nbconvert_exporter": "python",
   "pygments_lexer": "ipython3",
   "version": "3.10.12"
  }
 },
 "nbformat": 4,
 "nbformat_minor": 5
}
